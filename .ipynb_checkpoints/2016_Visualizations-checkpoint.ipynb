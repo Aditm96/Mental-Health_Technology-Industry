{
 "cells": [
  {
   "cell_type": "code",
   "execution_count": 36,
   "metadata": {},
   "outputs": [],
   "source": [
    "import numpy as np\n",
    "import matplotlib as plt\n",
    "import pandas as pd\n",
    "import matplotlib.pyplot as plt"
   ]
  },
  {
   "cell_type": "code",
   "execution_count": 37,
   "metadata": {},
   "outputs": [],
   "source": [
    "Data = pd.read_csv(\"2016_MH.csv\")"
   ]
  },
  {
   "cell_type": "code",
   "execution_count": 38,
   "metadata": {},
   "outputs": [
    {
     "data": {
      "text/html": [
       "<div>\n",
       "<style scoped>\n",
       "    .dataframe tbody tr th:only-of-type {\n",
       "        vertical-align: middle;\n",
       "    }\n",
       "\n",
       "    .dataframe tbody tr th {\n",
       "        vertical-align: top;\n",
       "    }\n",
       "\n",
       "    .dataframe thead th {\n",
       "        text-align: right;\n",
       "    }\n",
       "</style>\n",
       "<table border=\"1\" class=\"dataframe\">\n",
       "  <thead>\n",
       "    <tr style=\"text-align: right;\">\n",
       "      <th></th>\n",
       "      <th>Age</th>\n",
       "      <th>Gender</th>\n",
       "      <th>Country</th>\n",
       "      <th>Back-End</th>\n",
       "      <th>Front-End</th>\n",
       "      <th>Designer</th>\n",
       "      <th>Dev-Ops</th>\n",
       "      <th>Dev_Evang</th>\n",
       "      <th>Executive</th>\n",
       "      <th>HR</th>\n",
       "      <th>...</th>\n",
       "      <th>Physical_Mental</th>\n",
       "      <th>Mood</th>\n",
       "      <th>Eating</th>\n",
       "      <th>Personality</th>\n",
       "      <th>PTSD</th>\n",
       "      <th>OCD</th>\n",
       "      <th>Substance</th>\n",
       "      <th>Treatment</th>\n",
       "      <th>Treated_Interference_Mental_Health</th>\n",
       "      <th>No_Treatment_Interference_Mental_Health</th>\n",
       "    </tr>\n",
       "  </thead>\n",
       "  <tbody>\n",
       "    <tr>\n",
       "      <th>0</th>\n",
       "      <td>39</td>\n",
       "      <td>Male</td>\n",
       "      <td>United Kingdom</td>\n",
       "      <td>1</td>\n",
       "      <td>0</td>\n",
       "      <td>0</td>\n",
       "      <td>0</td>\n",
       "      <td>0</td>\n",
       "      <td>0</td>\n",
       "      <td>0</td>\n",
       "      <td>...</td>\n",
       "      <td>NaN</td>\n",
       "      <td>NaN</td>\n",
       "      <td>NaN</td>\n",
       "      <td>NaN</td>\n",
       "      <td>NaN</td>\n",
       "      <td>NaN</td>\n",
       "      <td>NaN</td>\n",
       "      <td>0</td>\n",
       "      <td>1</td>\n",
       "      <td>1</td>\n",
       "    </tr>\n",
       "    <tr>\n",
       "      <th>1</th>\n",
       "      <td>29</td>\n",
       "      <td>Male</td>\n",
       "      <td>United States of America</td>\n",
       "      <td>1</td>\n",
       "      <td>1</td>\n",
       "      <td>0</td>\n",
       "      <td>0</td>\n",
       "      <td>0</td>\n",
       "      <td>0</td>\n",
       "      <td>0</td>\n",
       "      <td>...</td>\n",
       "      <td>0.0</td>\n",
       "      <td>0.0</td>\n",
       "      <td>0.0</td>\n",
       "      <td>0.0</td>\n",
       "      <td>0.0</td>\n",
       "      <td>0.0</td>\n",
       "      <td>0.0</td>\n",
       "      <td>1</td>\n",
       "      <td>2</td>\n",
       "      <td>3</td>\n",
       "    </tr>\n",
       "    <tr>\n",
       "      <th>2</th>\n",
       "      <td>38</td>\n",
       "      <td>Male</td>\n",
       "      <td>United Kingdom</td>\n",
       "      <td>1</td>\n",
       "      <td>0</td>\n",
       "      <td>0</td>\n",
       "      <td>0</td>\n",
       "      <td>0</td>\n",
       "      <td>0</td>\n",
       "      <td>0</td>\n",
       "      <td>...</td>\n",
       "      <td>NaN</td>\n",
       "      <td>NaN</td>\n",
       "      <td>NaN</td>\n",
       "      <td>NaN</td>\n",
       "      <td>NaN</td>\n",
       "      <td>NaN</td>\n",
       "      <td>NaN</td>\n",
       "      <td>1</td>\n",
       "      <td>1</td>\n",
       "      <td>1</td>\n",
       "    </tr>\n",
       "    <tr>\n",
       "      <th>3</th>\n",
       "      <td>43</td>\n",
       "      <td>Male</td>\n",
       "      <td>United Kingdom</td>\n",
       "      <td>0</td>\n",
       "      <td>0</td>\n",
       "      <td>0</td>\n",
       "      <td>0</td>\n",
       "      <td>0</td>\n",
       "      <td>0</td>\n",
       "      <td>0</td>\n",
       "      <td>...</td>\n",
       "      <td>0.0</td>\n",
       "      <td>0.0</td>\n",
       "      <td>0.0</td>\n",
       "      <td>0.0</td>\n",
       "      <td>0.0</td>\n",
       "      <td>0.0</td>\n",
       "      <td>0.0</td>\n",
       "      <td>1</td>\n",
       "      <td>3</td>\n",
       "      <td>3</td>\n",
       "    </tr>\n",
       "    <tr>\n",
       "      <th>4</th>\n",
       "      <td>43</td>\n",
       "      <td>Female</td>\n",
       "      <td>United States of America</td>\n",
       "      <td>1</td>\n",
       "      <td>1</td>\n",
       "      <td>0</td>\n",
       "      <td>1</td>\n",
       "      <td>1</td>\n",
       "      <td>1</td>\n",
       "      <td>0</td>\n",
       "      <td>...</td>\n",
       "      <td>0.0</td>\n",
       "      <td>0.0</td>\n",
       "      <td>0.0</td>\n",
       "      <td>0.0</td>\n",
       "      <td>0.0</td>\n",
       "      <td>0.0</td>\n",
       "      <td>0.0</td>\n",
       "      <td>1</td>\n",
       "      <td>3</td>\n",
       "      <td>3</td>\n",
       "    </tr>\n",
       "    <tr>\n",
       "      <th>...</th>\n",
       "      <td>...</td>\n",
       "      <td>...</td>\n",
       "      <td>...</td>\n",
       "      <td>...</td>\n",
       "      <td>...</td>\n",
       "      <td>...</td>\n",
       "      <td>...</td>\n",
       "      <td>...</td>\n",
       "      <td>...</td>\n",
       "      <td>...</td>\n",
       "      <td>...</td>\n",
       "      <td>...</td>\n",
       "      <td>...</td>\n",
       "      <td>...</td>\n",
       "      <td>...</td>\n",
       "      <td>...</td>\n",
       "      <td>...</td>\n",
       "      <td>...</td>\n",
       "      <td>...</td>\n",
       "      <td>...</td>\n",
       "      <td>...</td>\n",
       "    </tr>\n",
       "    <tr>\n",
       "      <th>1377</th>\n",
       "      <td>38</td>\n",
       "      <td>Female</td>\n",
       "      <td>United States of America</td>\n",
       "      <td>0</td>\n",
       "      <td>0</td>\n",
       "      <td>0</td>\n",
       "      <td>0</td>\n",
       "      <td>0</td>\n",
       "      <td>0</td>\n",
       "      <td>0</td>\n",
       "      <td>...</td>\n",
       "      <td>0.0</td>\n",
       "      <td>0.0</td>\n",
       "      <td>0.0</td>\n",
       "      <td>0.0</td>\n",
       "      <td>0.0</td>\n",
       "      <td>0.0</td>\n",
       "      <td>0.0</td>\n",
       "      <td>1</td>\n",
       "      <td>2</td>\n",
       "      <td>4</td>\n",
       "    </tr>\n",
       "    <tr>\n",
       "      <th>1378</th>\n",
       "      <td>34</td>\n",
       "      <td>Female</td>\n",
       "      <td>United States of America</td>\n",
       "      <td>0</td>\n",
       "      <td>0</td>\n",
       "      <td>0</td>\n",
       "      <td>0</td>\n",
       "      <td>0</td>\n",
       "      <td>0</td>\n",
       "      <td>0</td>\n",
       "      <td>...</td>\n",
       "      <td>NaN</td>\n",
       "      <td>NaN</td>\n",
       "      <td>NaN</td>\n",
       "      <td>NaN</td>\n",
       "      <td>NaN</td>\n",
       "      <td>NaN</td>\n",
       "      <td>NaN</td>\n",
       "      <td>1</td>\n",
       "      <td>1</td>\n",
       "      <td>1</td>\n",
       "    </tr>\n",
       "    <tr>\n",
       "      <th>1379</th>\n",
       "      <td>56</td>\n",
       "      <td>Male</td>\n",
       "      <td>Afghanistan</td>\n",
       "      <td>0</td>\n",
       "      <td>0</td>\n",
       "      <td>0</td>\n",
       "      <td>0</td>\n",
       "      <td>0</td>\n",
       "      <td>0</td>\n",
       "      <td>0</td>\n",
       "      <td>...</td>\n",
       "      <td>NaN</td>\n",
       "      <td>NaN</td>\n",
       "      <td>NaN</td>\n",
       "      <td>NaN</td>\n",
       "      <td>NaN</td>\n",
       "      <td>NaN</td>\n",
       "      <td>NaN</td>\n",
       "      <td>0</td>\n",
       "      <td>3</td>\n",
       "      <td>4</td>\n",
       "    </tr>\n",
       "    <tr>\n",
       "      <th>1380</th>\n",
       "      <td>52</td>\n",
       "      <td>Male</td>\n",
       "      <td>United States of America</td>\n",
       "      <td>1</td>\n",
       "      <td>0</td>\n",
       "      <td>0</td>\n",
       "      <td>0</td>\n",
       "      <td>0</td>\n",
       "      <td>0</td>\n",
       "      <td>0</td>\n",
       "      <td>...</td>\n",
       "      <td>NaN</td>\n",
       "      <td>NaN</td>\n",
       "      <td>NaN</td>\n",
       "      <td>NaN</td>\n",
       "      <td>NaN</td>\n",
       "      <td>NaN</td>\n",
       "      <td>NaN</td>\n",
       "      <td>1</td>\n",
       "      <td>2</td>\n",
       "      <td>3</td>\n",
       "    </tr>\n",
       "    <tr>\n",
       "      <th>1381</th>\n",
       "      <td>30</td>\n",
       "      <td>Female</td>\n",
       "      <td>United States of America</td>\n",
       "      <td>0</td>\n",
       "      <td>0</td>\n",
       "      <td>0</td>\n",
       "      <td>1</td>\n",
       "      <td>0</td>\n",
       "      <td>0</td>\n",
       "      <td>0</td>\n",
       "      <td>...</td>\n",
       "      <td>0.0</td>\n",
       "      <td>0.0</td>\n",
       "      <td>0.0</td>\n",
       "      <td>0.0</td>\n",
       "      <td>0.0</td>\n",
       "      <td>0.0</td>\n",
       "      <td>0.0</td>\n",
       "      <td>0</td>\n",
       "      <td>3</td>\n",
       "      <td>4</td>\n",
       "    </tr>\n",
       "  </tbody>\n",
       "</table>\n",
       "<p>1382 rows × 69 columns</p>\n",
       "</div>"
      ],
      "text/plain": [
       "      Age  Gender                   Country  Back-End  Front-End  Designer  \\\n",
       "0      39    Male            United Kingdom         1          0         0   \n",
       "1      29    Male  United States of America         1          1         0   \n",
       "2      38    Male            United Kingdom         1          0         0   \n",
       "3      43    Male            United Kingdom         0          0         0   \n",
       "4      43  Female  United States of America         1          1         0   \n",
       "...   ...     ...                       ...       ...        ...       ...   \n",
       "1377   38  Female  United States of America         0          0         0   \n",
       "1378   34  Female  United States of America         0          0         0   \n",
       "1379   56    Male               Afghanistan         0          0         0   \n",
       "1380   52    Male  United States of America         1          0         0   \n",
       "1381   30  Female  United States of America         0          0         0   \n",
       "\n",
       "      Dev-Ops  Dev_Evang  Executive  HR  ...  Physical_Mental  Mood  Eating  \\\n",
       "0           0          0          0   0  ...              NaN   NaN     NaN   \n",
       "1           0          0          0   0  ...              0.0   0.0     0.0   \n",
       "2           0          0          0   0  ...              NaN   NaN     NaN   \n",
       "3           0          0          0   0  ...              0.0   0.0     0.0   \n",
       "4           1          1          1   0  ...              0.0   0.0     0.0   \n",
       "...       ...        ...        ...  ..  ...              ...   ...     ...   \n",
       "1377        0          0          0   0  ...              0.0   0.0     0.0   \n",
       "1378        0          0          0   0  ...              NaN   NaN     NaN   \n",
       "1379        0          0          0   0  ...              NaN   NaN     NaN   \n",
       "1380        0          0          0   0  ...              NaN   NaN     NaN   \n",
       "1381        1          0          0   0  ...              0.0   0.0     0.0   \n",
       "\n",
       "      Personality  PTSD  OCD  Substance  Treatment  \\\n",
       "0             NaN   NaN  NaN        NaN          0   \n",
       "1             0.0   0.0  0.0        0.0          1   \n",
       "2             NaN   NaN  NaN        NaN          1   \n",
       "3             0.0   0.0  0.0        0.0          1   \n",
       "4             0.0   0.0  0.0        0.0          1   \n",
       "...           ...   ...  ...        ...        ...   \n",
       "1377          0.0   0.0  0.0        0.0          1   \n",
       "1378          NaN   NaN  NaN        NaN          1   \n",
       "1379          NaN   NaN  NaN        NaN          0   \n",
       "1380          NaN   NaN  NaN        NaN          1   \n",
       "1381          0.0   0.0  0.0        0.0          0   \n",
       "\n",
       "      Treated_Interference_Mental_Health  \\\n",
       "0                                      1   \n",
       "1                                      2   \n",
       "2                                      1   \n",
       "3                                      3   \n",
       "4                                      3   \n",
       "...                                  ...   \n",
       "1377                                   2   \n",
       "1378                                   1   \n",
       "1379                                   3   \n",
       "1380                                   2   \n",
       "1381                                   3   \n",
       "\n",
       "      No_Treatment_Interference_Mental_Health   \n",
       "0                                            1  \n",
       "1                                            3  \n",
       "2                                            1  \n",
       "3                                            3  \n",
       "4                                            3  \n",
       "...                                        ...  \n",
       "1377                                         4  \n",
       "1378                                         1  \n",
       "1379                                         4  \n",
       "1380                                         3  \n",
       "1381                                         4  \n",
       "\n",
       "[1382 rows x 69 columns]"
      ]
     },
     "execution_count": 38,
     "metadata": {},
     "output_type": "execute_result"
    }
   ],
   "source": [
    "Data"
   ]
  },
  {
   "cell_type": "code",
   "execution_count": 4,
   "metadata": {},
   "outputs": [
    {
     "data": {
      "text/plain": [
       "United States of America    821\n",
       "United Kingdom              176\n",
       "Canada                       69\n",
       "Germany                      55\n",
       "Netherlands                  45\n",
       "Australia                    34\n",
       "Sweden                       18\n",
       "Ireland                      14\n",
       "France                       14\n",
       "Brazil                       10\n",
       "Russia                        9\n",
       "Switzerland                   9\n",
       "India                         9\n",
       "New Zealand                   9\n",
       "Denmark                       7\n",
       "Finland                       7\n",
       "Bulgaria                      7\n",
       "Belgium                       5\n",
       "South Africa                  4\n",
       "Austria                       4\n",
       "Poland                        4\n",
       "Romania                       3\n",
       "Chile                         3\n",
       "Italy                         3\n",
       "Spain                         3\n",
       "Norway                        3\n",
       "Czech Republic                3\n",
       "Afghanistan                   2\n",
       "Colombia                      2\n",
       "Bosnia and Herzegovina        2\n",
       "Israel                        2\n",
       "Other                         2\n",
       "Estonia                       2\n",
       "Mexico                        2\n",
       "Pakistan                      2\n",
       "Slovakia                      1\n",
       "Bangladesh                    1\n",
       "Serbia                        1\n",
       "Argentina                     1\n",
       "Iran                          1\n",
       "Greece                        1\n",
       "Venezuela                     1\n",
       "Ecuador                       1\n",
       "United Arab Emirates          1\n",
       "Turkey                        1\n",
       "Japan                         1\n",
       "Costa Rica                    1\n",
       "Lithuania                     1\n",
       "Brunei                        1\n",
       "China                         1\n",
       "Hungary                       1\n",
       "Guatemala                     1\n",
       "Vietnam                       1\n",
       "Name: Country, dtype: int64"
      ]
     },
     "execution_count": 4,
     "metadata": {},
     "output_type": "execute_result"
    }
   ],
   "source": [
    "Country = Data['Country'].value_counts()\n",
    "Country"
   ]
  },
  {
   "cell_type": "code",
   "execution_count": 6,
   "metadata": {},
   "outputs": [
    {
     "data": {
      "text/plain": [
       "Text(0.5, 1.0, 'Tech Employees By Country')"
      ]
     },
     "execution_count": 6,
     "metadata": {},
     "output_type": "execute_result"
    },
    {
     "data": {
      "image/png": "[encoded data removed]",
      "text/plain": [
       "<Figure size 432x288 with 1 Axes>"
      ]
     },
     "metadata": {},
     "output_type": "display_data"
    }
   ],
   "source": [
    "#Country Distribution\n",
    "Labels = [\"United States\", \"United Kingdom\", \"Canada\", \"Other\"]\n",
    "Sizes = [821, 176, 69, 316]\n",
    "Color = [\"red\", \"blue\", 'green', 'orange']\n",
    "Explode = (0.1, 0, 0, 0)\n",
    "plt.pie(Sizes, explode=Explode, labels=Labels, colors=Color,\n",
    "        autopct=\"%1.1f%%\", shadow=True, startangle=140)\n",
    "plt.title(\"Tech Employees By Country\")"
   ]
  },
  {
   "cell_type": "code",
   "execution_count": 8,
   "metadata": {},
   "outputs": [
    {
     "data": {
      "text/plain": [
       "Text(0, 0.5, 'Number of Tech Employees')"
      ]
     },
     "execution_count": 8,
     "metadata": {},
     "output_type": "execute_result"
    },
    {
     "data": {
      "image/png": "[encoded data removed]",
      "text/plain": [
       "<Figure size 432x288 with 1 Axes>"
      ]
     },
     "metadata": {
      "needs_background": "light"
     },
     "output_type": "display_data"
    }
   ],
   "source": [
    "#Gender\n",
    "Gender = Data[\"Gender\"].value_counts()\n",
    "Gender\n",
    "X = ['Male', 'Female']\n",
    "Y = [1051, 330]\n",
    "plt.bar(X, Y, color='g', alpha=0.5, align= 'center')\n",
    "plt.title('Tech Employees Distribution by Number of Co-Workers')\n",
    "plt.xlabel(\"Gender\")\n",
    "plt.ylabel(\"Number of Tech Employees\")"
   ]
  },
  {
   "cell_type": "code",
   "execution_count": 9,
   "metadata": {},
   "outputs": [
    {
     "name": "stdout",
     "output_type": "stream",
     "text": [
      "Total Summary Data\n",
      "----------------------\n",
      "The average age is: 34.37771345875543\n",
      "The lower quantile is: 28.25\n",
      "The upper quantile is: 39.0\n",
      "The inter-quantile range is: 10.75\n",
      "The median age is: 33.0\n"
     ]
    }
   ],
   "source": [
    "#Age Summary Data\n",
    "Age = Data['Age']\n",
    "Quantiles = Age.quantile([.25, .5, .75])\n",
    "Average = Age.mean()\n",
    "Lower_Quantile = Quantiles[0.25]\n",
    "Upper_Quantile = Quantiles[0.75]\n",
    "Inter_Quantile = Upper_Quantile - Lower_Quantile\n",
    "Lower_Bound = Lower_Quantile - (1.5*Inter_Quantile)\n",
    "Upper_Bound = Upper_Quantile + (1.5*Inter_Quantile)\n",
    "print(\"Total Summary Data\")\n",
    "print(\"----------------------\")\n",
    "print(f\"The average age is: {Average}\")\n",
    "print(f\"The lower quantile is: {Lower_Quantile}\")\n",
    "print(f\"The upper quantile is: {Upper_Quantile}\")\n",
    "print(f\"The inter-quantile range is: {Inter_Quantile}\")\n",
    "print(f\"The median age is: {Quantiles[0.5]}\")"
   ]
  },
  {
   "cell_type": "code",
   "execution_count": 28,
   "metadata": {},
   "outputs": [
    {
     "data": {
      "text/plain": [
       "Text(0, 0.5, 'Number of Employees')"
      ]
     },
     "execution_count": 28,
     "metadata": {},
     "output_type": "execute_result"
    },
    {
     "data": {
      "image/png": "[encoded data removed]",
      "text/plain": [
       "<Figure size 432x288 with 1 Axes>"
      ]
     },
     "metadata": {
      "needs_background": "light"
     },
     "output_type": "display_data"
    }
   ],
   "source": [
    "#Count of Each Position \n",
    "X = ['BE', 'Designer', 'DE', 'DO', 'Executive', 'FE', 'HR', 'OP', 'Supervisor']\n",
    "Y = [707,125,94,267,97,482,10,157,265]\n",
    "plt.bar(X, Y, color='b', alpha=0.5, align= 'center')\n",
    "plt.title('Tech Employees Distribution by Positions')\n",
    "plt.xlabel(\"Positions\")\n",
    "plt.ylabel(\"Number of Employees\")"
   ]
  },
  {
   "cell_type": "code",
   "execution_count": 32,
   "metadata": {},
   "outputs": [
    {
     "data": {
      "text/plain": [
       "Text(0, 0.5, 'Participants')"
      ]
     },
     "execution_count": 32,
     "metadata": {},
     "output_type": "execute_result"
    },
    {
     "data": {
      "image/png": "[encoded data removed]",
      "text/plain": [
       "<Figure size 432x288 with 1 Axes>"
      ]
     },
     "metadata": {
      "needs_background": "light"
     },
     "output_type": "display_data"
    }
   ],
   "source": [
    "#Count of Self-Employment\n",
    "Employment = Data[\"Self_Employed\"].value_counts()\n",
    "X = [\"Self-Employment\", \"Company\"]\n",
    "Y = [280, 1102]\n",
    "plt.bar(X, Y, color='y', alpha=0.5, align= 'center')\n",
    "plt.title('Self-Employed')\n",
    "plt.xlabel(\"Self-Employed or Company\")\n",
    "plt.ylabel(\"Participants\")"
   ]
  },
  {
   "cell_type": "code",
   "execution_count": 35,
   "metadata": {},
   "outputs": [
    {
     "data": {
      "text/plain": [
       "Text(0, 0.5, 'Participants')"
      ]
     },
     "execution_count": 35,
     "metadata": {},
     "output_type": "execute_result"
    },
    {
     "data": {
      "image/png": "[encoded data removed]",
      "text/plain": [
       "<Figure size 432x288 with 1 Axes>"
      ]
     },
     "metadata": {
      "needs_background": "light"
     },
     "output_type": "display_data"
    }
   ],
   "source": [
    "#Tech Company \n",
    "Tech = Data[\"Tech\"].value_counts()\n",
    "X = [\"Predominantly Tech\", \"Not Predominantly Tech\"]\n",
    "Y = [845, 257]\n",
    "plt.bar(X, Y, color='r', alpha=0.5, align= 'center')\n",
    "plt.title('How Many Participants Work in a Predominantly Tech Company')\n",
    "plt.xlabel(\"Predominantly Tech\")\n",
    "plt.ylabel(\"Participants\")"
   ]
  }
 ],
 "metadata": {
  "kernelspec": {
   "display_name": "Python 3",
   "language": "python",
   "name": "python3"
  },
  "language_info": {
   "codemirror_mode": {
    "name": "ipython",
    "version": 3
   },
   "file_extension": ".py",
   "mimetype": "text/x-python",
   "name": "python",
   "nbconvert_exporter": "python",
   "pygments_lexer": "ipython3",
   "version": "3.7.4"
  }
 },
 "nbformat": 4,
 "nbformat_minor": 2
}
